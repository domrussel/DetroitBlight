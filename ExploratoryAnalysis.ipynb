{
 "cells": [
  {
   "cell_type": "code",
   "execution_count": 14,
   "metadata": {
    "collapsed": false
   },
   "outputs": [],
   "source": [
    "import pandas as pd\n",
    "import numpy as np\n",
    "from sklearn import metrics\n",
    "from sklearn import ensemble\n",
    "import re\n",
    "\n",
    "#Import Data\n",
    "train_dat = pd.read_csv(\"train.csv\", encoding = \"ISO-8859-1\", low_memory=False)\n",
    "test_dat = pd.read_csv(\"test.csv\")\n",
    "train_dat_cl = train_dat.dropna(axis=0, subset=[\"compliance\"])"
   ]
  },
  {
   "cell_type": "code",
   "execution_count": 15,
   "metadata": {
    "collapsed": false
   },
   "outputs": [
    {
     "name": "stdout",
     "output_type": "stream",
     "text": [
      "Compliance: 11597 Non-Compliance: 148283 Not Responsible: 90426\n",
      "Compliance Rate: 0.0725356517388\n"
     ]
    }
   ],
   "source": [
    "#Overall Compliance Rate\n",
    "train_dat[\"compliance\"] = train_dat[\"compliance\"].fillna(-1)\n",
    "numb_compl = sum(train_dat[\"compliance\"] == 1)\n",
    "numb_non_compl = sum(train_dat[\"compliance\"] == 0)\n",
    "numb_not_responsible = sum(train_dat[\"compliance\"] == -1)\n",
    "compl_rate = numb_compl/(numb_compl + numb_non_compl)\n",
    "print(\"Compliance:\", numb_compl, \"Non-Compliance:\", numb_non_compl, \"Not Responsible:\", numb_not_responsible)\n",
    "print(\"Compliance Rate:\", compl_rate)"
   ]
  },
  {
   "cell_type": "code",
   "execution_count": 16,
   "metadata": {
    "collapsed": false
   },
   "outputs": [
    {
     "name": "stderr",
     "output_type": "stream",
     "text": [
      "/Users/kwschulz/anaconda/lib/python3.5/site-packages/ipykernel/__main__.py:2: SettingWithCopyWarning: \n",
      "A value is trying to be set on a copy of a slice from a DataFrame.\n",
      "Try using .loc[row_indexer,col_indexer] = value instead\n",
      "\n",
      "See the caveats in the documentation: http://pandas.pydata.org/pandas-docs/stable/indexing.html#indexing-view-versus-copy\n",
      "  from ipykernel import kernelapp as app\n",
      "/Users/kwschulz/anaconda/lib/python3.5/site-packages/ipykernel/__main__.py:3: SettingWithCopyWarning: \n",
      "A value is trying to be set on a copy of a slice from a DataFrame.\n",
      "Try using .loc[row_indexer,col_indexer] = value instead\n",
      "\n",
      "See the caveats in the documentation: http://pandas.pydata.org/pandas-docs/stable/indexing.html#indexing-view-versus-copy\n",
      "  app.launch_new_instance()\n"
     ]
    },
    {
     "name": "stdout",
     "output_type": "stream",
     "text": [
      "                    city  inDetroit\n",
      "0                chicago        0.0\n",
      "1                detroit        1.0\n",
      "5              log beach        0.0\n",
      "6                clinton        0.0\n",
      "7                detroit        1.0\n",
      "8                detroit        1.0\n",
      "9                detroit        1.0\n",
      "12               detroit        1.0\n",
      "13               detroit        1.0\n",
      "14               detroit        1.0\n",
      "18               detroit        1.0\n",
      "19               detroit        1.0\n",
      "21               detroit        1.0\n",
      "22               detroit        1.0\n",
      "23               detroit        1.0\n",
      "26               detroit        1.0\n",
      "28                   det        1.0\n",
      "30                   det        1.0\n",
      "31                   det        1.0\n",
      "33          w.bloomfield        0.0\n",
      "34                   det        1.0\n",
      "35             southgate        0.0\n",
      "37               detroit        1.0\n",
      "38                   det        1.0\n",
      "39               detroit        1.0\n",
      "40                   det        1.0\n",
      "41                   det        1.0\n",
      "42         grosse pointe        0.0\n",
      "43      bloomfield hills        0.0\n",
      "44      bloomfield hills        0.0\n",
      "...                  ...        ...\n",
      "250244           detroit        1.0\n",
      "250249          dearborn        0.0\n",
      "250250           detroit        1.0\n",
      "250254           detroit        1.0\n",
      "250255           detroit        1.0\n",
      "250256           detroit        1.0\n",
      "250257           detroit        1.0\n",
      "250258           detroit        1.0\n",
      "250259           detroit        1.0\n",
      "250261           detroit        1.0\n",
      "250262           detroit        1.0\n",
      "250264           detroit        1.0\n",
      "250265           detroit        1.0\n",
      "250266           detroit        1.0\n",
      "250267           detroit        1.0\n",
      "250268           detroit        1.0\n",
      "250269           detroit        1.0\n",
      "250270           detroit        1.0\n",
      "250271           detroit        1.0\n",
      "250272           detroit        1.0\n",
      "250273           detroit        1.0\n",
      "250274           detroit        1.0\n",
      "250275           detroit        1.0\n",
      "250276           detroit        1.0\n",
      "250277           detroit        1.0\n",
      "250278           detroit        1.0\n",
      "250287           detroit        1.0\n",
      "250288           detroit        1.0\n",
      "250290           detroit        1.0\n",
      "250293             chico        0.0\n",
      "\n",
      "[159880 rows x 2 columns]\n"
     ]
    },
    {
     "name": "stderr",
     "output_type": "stream",
     "text": [
      "/Users/kwschulz/anaconda/lib/python3.5/site-packages/pandas/core/indexing.py:465: SettingWithCopyWarning: \n",
      "A value is trying to be set on a copy of a slice from a DataFrame.\n",
      "Try using .loc[row_indexer,col_indexer] = value instead\n",
      "\n",
      "See the caveats in the documentation: http://pandas.pydata.org/pandas-docs/stable/indexing.html#indexing-view-versus-copy\n",
      "  self.obj[item] = s\n"
     ]
    }
   ],
   "source": [
    "#Detroit vs Non-Detroit Mailing Address as new feature\n",
    "train_dat_cl[\"city\"] = [x.lower() for x in train_dat_cl[\"city\"]]\n",
    "train_dat_cl[\"inDetroit\"] = np.zeros(train_dat_cl.shape[0])\n",
    "r = re.compile(\"det\")\n",
    "vmatch = np.vectorize(lambda x:bool(r.match(x)))\n",
    "vmatch(train_dat_cl[\"city\"])\n",
    "train_dat_cl.loc[vmatch(train_dat_cl[\"city\"]), \"inDetroit\"] = 1.\n",
    "print(train_dat_cl[[\"city\", \"inDetroit\"]])"
   ]
  },
  {
   "cell_type": "code",
   "execution_count": 17,
   "metadata": {
    "collapsed": false
   },
   "outputs": [
    {
     "name": "stdout",
     "output_type": "stream",
     "text": [
      "Compliance Rate in Detroit 0.0716930326489\n",
      "Compliance Rate Outside Detroit 0.0738716302537\n"
     ]
    }
   ],
   "source": [
    "inDetroit_dat = train_dat_cl[train_dat_cl[\"inDetroit\"] == 1]\n",
    "nonDetroit_dat = train_dat_cl[train_dat_cl[\"inDetroit\"] == 0]\n",
    "\n",
    "print(\"Compliance Rate in Detroit\", sum(inDetroit_dat[\"compliance\"] == 1)/inDetroit_dat.shape[0])\n",
    "print(\"Compliance Rate Outside Detroit\", sum(nonDetroit_dat[\"compliance\"] == 1)/nonDetroit_dat.shape[0])\n",
    "\n",
    "\n",
    "# clf = ensemble.RandomForestClassifier()\n",
    "# clf.fit(train_dat_cl[\"city\"], train_dat_cl[\"compliance\"])\n",
    "# y_pred = clf.predict(test_dat[\"city\"])\n",
    "# y_true = test_dat[\"compliance\"]\n",
    "# metrics.roc_auc_score(y_true, y_pred)"
   ]
  },
  {
   "cell_type": "code",
   "execution_count": 18,
   "metadata": {
    "collapsed": false
   },
   "outputs": [
    {
     "name": "stderr",
     "output_type": "stream",
     "text": [
      "/Users/kwschulz/anaconda/lib/python3.5/site-packages/ipykernel/__main__.py:1: SettingWithCopyWarning: \n",
      "A value is trying to be set on a copy of a slice from a DataFrame.\n",
      "Try using .loc[row_indexer,col_indexer] = value instead\n",
      "\n",
      "See the caveats in the documentation: http://pandas.pydata.org/pandas-docs/stable/indexing.html#indexing-view-versus-copy\n",
      "  if __name__ == '__main__':\n",
      "/Users/kwschulz/anaconda/lib/python3.5/site-packages/pandas/core/indexing.py:465: SettingWithCopyWarning: \n",
      "A value is trying to be set on a copy of a slice from a DataFrame.\n",
      "Try using .loc[row_indexer,col_indexer] = value instead\n",
      "\n",
      "See the caveats in the documentation: http://pandas.pydata.org/pandas-docs/stable/indexing.html#indexing-view-versus-copy\n",
      "  self.obj[item] = s\n"
     ]
    }
   ],
   "source": [
    "train_dat_cl['zip_payment_rate'] = np.zeros(train_dat_cl.shape[0])\n",
    "test_dat['zip_payment_rate'] = np.zeros(test_dat.shape[0])\n",
    "for zip_code in train_dat_cl.zip_code.unique():\n",
    "    zip_dat = train_dat_cl[train_dat_cl[\"zip_code\"] == zip_code]\n",
    "    if zip_dat.shape[0] >= 4:\n",
    "        comp_rate = sum(zip_dat[\"compliance\"] == 1)/zip_dat.shape[0]\n",
    "        if comp_rate <= 0.065:\n",
    "            train_dat_cl.loc[train_dat_cl['zip_code'] == zip_code, 'zip_payment_rate'] = 1.\n",
    "            test_dat.loc[test_dat['zip_code'] == zip_code, 'zip_payment_rate'] = 1.\n",
    "        elif comp_rate > 0.065 and comp_rate <= 0.09:\n",
    "            train_dat_cl.loc[train_dat_cl['zip_code'] == zip_code, 'zip_payment_rate'] = 2.\n",
    "            test_dat.loc[test_dat['zip_code'] == zip_code, 'zip_payment_rate'] = 2.\n",
    "        else:\n",
    "            train_dat_cl.loc[train_dat_cl['zip_code'] == zip_code, 'zip_payment_rate'] = 3.\n",
    "            test_dat.loc[test_dat['zip_code'] == zip_code, 'zip_payment_rate'] = 3.\n",
    "\n"
   ]
  },
  {
   "cell_type": "code",
   "execution_count": 19,
   "metadata": {
    "collapsed": false
   },
   "outputs": [
    {
     "name": "stdout",
     "output_type": "stream",
     "text": [
      "      zip_code  zip_payment_rate\n",
      "0        48213               1.0\n",
      "1        48219               2.0\n",
      "2        48219               2.0\n",
      "3        48183               3.0\n",
      "4        48154               3.0\n",
      "5        48154               3.0\n",
      "6        48154               3.0\n",
      "7        48306               3.0\n",
      "8        29054               1.0\n",
      "9        94539               1.0\n",
      "10       48187               3.0\n",
      "11       48187               3.0\n",
      "12       48209               3.0\n",
      "13       48209               3.0\n",
      "14       75225               3.0\n",
      "15       75225               3.0\n",
      "16       63042               0.0\n",
      "17       48217               2.0\n",
      "18       48228               2.0\n",
      "19       48236               3.0\n",
      "20       48236               3.0\n",
      "21       91335               1.0\n",
      "22       29054               1.0\n",
      "23       48193               1.0\n",
      "24       48193               1.0\n",
      "25       95129               1.0\n",
      "26       84065               1.0\n",
      "27       48235               1.0\n",
      "28       48202               1.0\n",
      "29       48238               2.0\n",
      "...        ...               ...\n",
      "60971    48235               1.0\n",
      "60972    48235               1.0\n",
      "60973    48237               2.0\n",
      "60974    48237               2.0\n",
      "60975    48221               2.0\n",
      "60976    48221               2.0\n",
      "60977    48207               3.0\n",
      "60978    48112               1.0\n",
      "60979    48034               1.0\n",
      "60980    48221               2.0\n",
      "60981    48215               2.0\n",
      "60982    48202               1.0\n",
      "60983    48201               3.0\n",
      "60984    48206               1.0\n",
      "60985    48226               3.0\n",
      "60986    48205               1.0\n",
      "60987    48207               3.0\n",
      "60988    48207               3.0\n",
      "60989    48310               2.0\n",
      "60990    48124               2.0\n",
      "60991    70810               0.0\n",
      "60992    70810               0.0\n",
      "60993    70810               0.0\n",
      "60994    70810               0.0\n",
      "60995    70810               0.0\n",
      "60996    48037               1.0\n",
      "60997    48037               1.0\n",
      "60998    48213               1.0\n",
      "60999    48224               1.0\n",
      "61000    48203               2.0\n",
      "\n",
      "[61001 rows x 2 columns]\n",
      "6013\n",
      "18334\n",
      "23681\n",
      "12973\n"
     ]
    }
   ],
   "source": [
    "print(test_dat[['zip_code', 'zip_payment_rate']])\n",
    "print(sum(test_dat['zip_payment_rate'] == 0.))\n",
    "print(sum(test_dat['zip_payment_rate'] == 1.))\n",
    "print(sum(test_dat['zip_payment_rate'] == 2.))\n",
    "print(sum(test_dat['zip_payment_rate'] == 3.))"
   ]
  },
  {
   "cell_type": "code",
   "execution_count": 20,
   "metadata": {
    "collapsed": false
   },
   "outputs": [
    {
     "name": "stderr",
     "output_type": "stream",
     "text": [
      "/Users/kwschulz/anaconda/lib/python3.5/site-packages/ipykernel/__main__.py:1: SettingWithCopyWarning: \n",
      "A value is trying to be set on a copy of a slice from a DataFrame.\n",
      "Try using .loc[row_indexer,col_indexer] = value instead\n",
      "\n",
      "See the caveats in the documentation: http://pandas.pydata.org/pandas-docs/stable/indexing.html#indexing-view-versus-copy\n",
      "  if __name__ == '__main__':\n",
      "/Users/kwschulz/anaconda/lib/python3.5/site-packages/pandas/core/indexing.py:465: SettingWithCopyWarning: \n",
      "A value is trying to be set on a copy of a slice from a DataFrame.\n",
      "Try using .loc[row_indexer,col_indexer] = value instead\n",
      "\n",
      "See the caveats in the documentation: http://pandas.pydata.org/pandas-docs/stable/indexing.html#indexing-view-versus-copy\n",
      "  self.obj[item] = s\n"
     ]
    }
   ],
   "source": [
    "train_dat_cl[\"is_that_code\"] = np.zeros(train_dat_cl.shape[0])\n",
    "train_dat_cl.loc[train_dat_cl[\"violation_code\"] == \"9-1-36(a)\", \"is_that_code\"] = 1\n",
    "\n",
    "test_dat[\"is_that_code\"] = np.zeros(test_dat.shape[0])\n",
    "test_dat.loc[test_dat[\"violation_code\"] == \"9-1-36(a)\", \"is_that_code\"] = 1"
   ]
  },
  {
   "cell_type": "code",
   "execution_count": 21,
   "metadata": {
    "collapsed": false
   },
   "outputs": [],
   "source": [
    "# feat_matrix = train_dat_cl[['zip_payment_rate', 'is_that_code', 'judgment_amount', 'late_fee']]\n",
    "# feat_matrix_test = test_dat[['zip_payment_rate', 'is_that_code', 'judgment_amount', 'late_fee']]\n",
    "# clf = ensemble.RandomForestClassifier()\n",
    "# clf.fit(feat_matrix, train_dat_cl[\"compliance\"])\n",
    "# y_pred = clf.predict_proba(feat_matrix_test)\n",
    "# y_probs = y_pred[:,1]\n",
    "# print(y_probs)"
   ]
  },
  {
   "cell_type": "code",
   "execution_count": 22,
   "metadata": {
    "collapsed": false
   },
   "outputs": [
    {
     "data": {
      "text/plain": [
       "array([ 0.,  0.,  0., ...,  0.,  0.,  0.])"
      ]
     },
     "execution_count": 22,
     "metadata": {},
     "output_type": "execute_result"
    }
   ],
   "source": [
    "np.zeros(train_dat_cl.shape[0])"
   ]
  },
  {
   "cell_type": "code",
   "execution_count": 23,
   "metadata": {
    "collapsed": false
   },
   "outputs": [
    {
     "name": "stderr",
     "output_type": "stream",
     "text": [
      "/Users/kwschulz/anaconda/lib/python3.5/site-packages/ipykernel/__main__.py:1: SettingWithCopyWarning: \n",
      "A value is trying to be set on a copy of a slice from a DataFrame.\n",
      "Try using .loc[row_indexer,col_indexer] = value instead\n",
      "\n",
      "See the caveats in the documentation: http://pandas.pydata.org/pandas-docs/stable/indexing.html#indexing-view-versus-copy\n",
      "  if __name__ == '__main__':\n"
     ]
    }
   ],
   "source": [
    "train_dat_cl['ticket_issued_date'] = pd.to_datetime(train_dat_cl['ticket_issued_date'], format='%-m/%-d/%Y %-H:%M', errors='ignore')"
   ]
  },
  {
   "cell_type": "code",
   "execution_count": 24,
   "metadata": {
    "collapsed": false
   },
   "outputs": [
    {
     "name": "stderr",
     "output_type": "stream",
     "text": [
      "/Users/kwschulz/anaconda/lib/python3.5/site-packages/ipykernel/__main__.py:1: SettingWithCopyWarning: \n",
      "A value is trying to be set on a copy of a slice from a DataFrame.\n",
      "Try using .loc[row_indexer,col_indexer] = value instead\n",
      "\n",
      "See the caveats in the documentation: http://pandas.pydata.org/pandas-docs/stable/indexing.html#indexing-view-versus-copy\n",
      "  if __name__ == '__main__':\n",
      "/Users/kwschulz/anaconda/lib/python3.5/site-packages/ipykernel/__main__.py:2: SettingWithCopyWarning: \n",
      "A value is trying to be set on a copy of a slice from a DataFrame.\n",
      "Try using .loc[row_indexer,col_indexer] = value instead\n",
      "\n",
      "See the caveats in the documentation: http://pandas.pydata.org/pandas-docs/stable/indexing.html#indexing-view-versus-copy\n",
      "  from ipykernel import kernelapp as app\n"
     ]
    }
   ],
   "source": [
    "train_dat_cl['violatorPaid'] = 0\n",
    "train_dat_cl['violatorSkipped'] = 0\n",
    "violatorPaid = {}\n",
    "violatorSkipped = {}\n",
    "for i, row in train_dat_cl.iterrows():\n",
    "    if row['violator_name'] in violatorPaid:\n",
    "        train_dat_cl.set_value(i,'violatorPaid', violatorPaid[row['violator_name']])\n",
    "    if row['violator_name'] in violatorSkipped:\n",
    "        train_dat_cl.set_value(i,'violatorSkipped', violatorSkipped[row['violator_name']])\n",
    "    if row['compliance'] == 1:\n",
    "        if row['violator_name'] in violatorPaid:\n",
    "            violatorPaid[row['violator_name']] += 1 \n",
    "        else:\n",
    "            violatorPaid[row['violator_name']] = 1\n",
    "    else:\n",
    "        if row['violator_name'] in violatorSkipped:\n",
    "            violatorSkipped[row['violator_name']] += 1\n",
    "        else:\n",
    "            violatorSkipped[row['violator_name']] = 1"
   ]
  },
  {
   "cell_type": "code",
   "execution_count": 29,
   "metadata": {
    "collapsed": false
   },
   "outputs": [],
   "source": [
    "test_dat['violatorPaid'] = 0\n",
    "test_dat['violatorSkipped'] = 0\n",
    "for i, row in test_dat.iterrows():\n",
    "    if row['violator_name'] in violatorPaid:\n",
    "        test_dat.at[i,'violatorPaid'] = violatorPaid[row['violator_name']]\n",
    "    if row['violator_name'] in violatorSkipped:\n",
    "        test_dat.at[i,'violatorSkipped'] = violatorSkipped[row['violator_name']]"
   ]
  },
  {
   "cell_type": "code",
   "execution_count": 30,
   "metadata": {
    "collapsed": false
   },
   "outputs": [
    {
     "name": "stdout",
     "output_type": "stream",
     "text": [
      "[ 0.0476585   0.01638581  0.07879307 ...,  0.05904382  0.05904382\n",
      "  0.31304513]\n"
     ]
    }
   ],
   "source": [
    "feat_matrix = train_dat_cl[['zip_payment_rate', 'is_that_code', 'judgment_amount', 'late_fee', 'violatorPaid', 'violatorSkipped']]\n",
    "feat_matrix_test = test_dat[['zip_payment_rate', 'is_that_code', 'judgment_amount', 'late_fee', 'violatorPaid', 'violatorSkipped']]\n",
    "clf = ensemble.RandomForestClassifier()\n",
    "clf.fit(feat_matrix, train_dat_cl[\"compliance\"])\n",
    "y_pred = clf.predict_proba(feat_matrix_test)\n",
    "y_probs = y_pred[:,1]\n",
    "print(y_probs)"
   ]
  },
  {
   "cell_type": "code",
   "execution_count": 31,
   "metadata": {
    "collapsed": false
   },
   "outputs": [],
   "source": [
    "toWrite = pd.concat([test_dat[\"ticket_id\"], pd.Series(y_probs)], axis=1)\n",
    "toWrite.to_csv(path_or_buf=\"submission2.csv\", index=False)"
   ]
  },
  {
   "cell_type": "code",
   "execution_count": 32,
   "metadata": {
    "collapsed": false
   },
   "outputs": [
    {
     "data": {
      "text/plain": [
       "1340"
      ]
     },
     "execution_count": 32,
     "metadata": {},
     "output_type": "execute_result"
    }
   ],
   "source": [
    "sum(y_probs > 0.5)"
   ]
  },
  {
   "cell_type": "code",
   "execution_count": 33,
   "metadata": {
    "collapsed": false
   },
   "outputs": [
    {
     "data": {
      "text/plain": [
       "59661"
      ]
     },
     "execution_count": 33,
     "metadata": {},
     "output_type": "execute_result"
    }
   ],
   "source": [
    "sum(y_probs <= 0.5)"
   ]
  },
  {
   "cell_type": "code",
   "execution_count": null,
   "metadata": {
    "collapsed": true
   },
   "outputs": [],
   "source": []
  }
 ],
 "metadata": {
  "anaconda-cloud": {},
  "kernelspec": {
   "display_name": "Python [conda root]",
   "language": "python",
   "name": "conda-root-py"
  },
  "language_info": {
   "codemirror_mode": {
    "name": "ipython",
    "version": 3
   },
   "file_extension": ".py",
   "mimetype": "text/x-python",
   "name": "python",
   "nbconvert_exporter": "python",
   "pygments_lexer": "ipython3",
   "version": "3.5.2"
  }
 },
 "nbformat": 4,
 "nbformat_minor": 1
}
