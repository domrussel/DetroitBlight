{
 "cells": [
  {
   "cell_type": "code",
   "execution_count": 36,
   "metadata": {
    "collapsed": false
   },
   "outputs": [],
   "source": [
    "import pandas as pd\n",
    "import numpy as np\n",
    "from sklearn import metrics\n",
    "from sklearn import ensemble\n",
    "import re\n",
    "\n",
    "#Import Data\n",
    "train_dat = pd.read_csv(\"train.csv\", encoding = \"ISO-8859-1\", low_memory=False)\n",
    "test_dat = pd.read_csv(\"test.csv\")\n",
    "train_dat_cl = train_dat.dropna(axis=0, subset=[\"compliance\"])"
   ]
  },
  {
   "cell_type": "code",
   "execution_count": 24,
   "metadata": {
    "collapsed": false
   },
   "outputs": [
    {
     "name": "stdout",
     "output_type": "stream",
     "text": [
      "Compliance: 11597 Non-Compliance: 148283 Not Responsible: 90426\n",
      "Compliance Rate: 0.0725356517388\n"
     ]
    }
   ],
   "source": [
    "#Overall Compliance Rate\n",
    "train_dat[\"compliance\"] = train_dat[\"compliance\"].fillna(-1)\n",
    "numb_compl = sum(train_dat[\"compliance\"] == 1)\n",
    "numb_non_compl = sum(train_dat[\"compliance\"] == 0)\n",
    "numb_not_responsible = sum(train_dat[\"compliance\"] == -1)\n",
    "compl_rate = numb_compl/(numb_compl + numb_non_compl)\n",
    "print(\"Compliance:\", numb_compl, \"Non-Compliance:\", numb_non_compl, \"Not Responsible:\", numb_not_responsible)\n",
    "print(\"Compliance Rate:\", compl_rate)"
   ]
  },
  {
   "cell_type": "code",
   "execution_count": 41,
   "metadata": {
    "collapsed": false
   },
   "outputs": [],
   "source": [
    "#Detroit vs Non-Detroit Mailing Address as new feature\n",
    "train_dat[\"city\"] = [x.lower() for x in train_dat[\"city\"]]\n",
    "train_dat[\"inDetroit\"] = np.zeros(train_dat.shape[0])\n",
    "for city in train_dat[\"city\"]:\n",
    "    match_obj = re.match(\"det\", city)\n",
    "    if match_obj:\n",
    "        train_dat[\"inDetroit\"] == 1"
   ]
  },
  {
   "cell_type": "code",
   "execution_count": 42,
   "metadata": {
    "collapsed": false
   },
   "outputs": [],
   "source": [
    "# clf = ensemble.RandomForestClassifier()\n",
    "# clf.fit(train_dat_cl[\"city\"], train_dat_cl[\"compliance\"])\n",
    "# y_pred = clf.predict(test_dat[\"city\"])\n",
    "# y_true = test_dat[\"compliance\"]\n",
    "# metrics.roc_auc_score(y_true, y_pred)"
   ]
  },
  {
   "cell_type": "code",
   "execution_count": null,
   "metadata": {
    "collapsed": true
   },
   "outputs": [],
   "source": []
  }
 ],
 "metadata": {
  "kernelspec": {
   "display_name": "Python [conda root]",
   "language": "python",
   "name": "conda-root-py"
  },
  "language_info": {
   "codemirror_mode": {
    "name": "ipython",
    "version": 3
   },
   "file_extension": ".py",
   "mimetype": "text/x-python",
   "name": "python",
   "nbconvert_exporter": "python",
   "pygments_lexer": "ipython3",
   "version": "3.5.2"
  }
 },
 "nbformat": 4,
 "nbformat_minor": 1
}
