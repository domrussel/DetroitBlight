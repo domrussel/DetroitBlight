{
 "cells": [
  {
   "cell_type": "code",
   "execution_count": 30,
   "metadata": {
    "collapsed": true
   },
   "outputs": [],
   "source": [
    "import pandas as pd\n",
    "import numpy as np\n",
    "from sklearn import metrics\n",
    "from sklearn import ensemble\n",
    "import re\n",
    "from sklearn.model_selection import StratifiedKFold\n",
    "pd.options.mode.chained_assignment = None  # default='warn'\n",
    "\n",
    "def cv_performance(clf, X, y, k=5):\n",
    "    skf = StratifiedKFold(n_splits=k)\n",
    "    curr_sum = 0\n",
    "    for train, test in skf.split(X, y):\n",
    "        clf.fit(X.iloc[train], y.iloc[train])\n",
    "        y_pred = clf.predict_proba(X.iloc[test])[:,1]\n",
    "        curr_sum = curr_sum + metrics.roc_auc_score(y.iloc[test], y_pred)\n",
    "    return(curr_sum/k)\n"
   ]
  },
  {
   "cell_type": "code",
   "execution_count": 31,
   "metadata": {
    "collapsed": false
   },
   "outputs": [],
   "source": [
    "#Import Data\n",
    "train_dat = pd.read_csv(\"train.csv\", encoding = \"ISO-8859-1\", low_memory=False)\n",
    "test_dat = pd.read_csv(\"test.csv\")\n",
    "train_dat_cl = train_dat.dropna(axis=0, subset=[\"compliance\"])\n",
    "train_dat_cl = train_dat_cl.reset_index(drop=True)"
   ]
  },
  {
   "cell_type": "code",
   "execution_count": 32,
   "metadata": {
    "collapsed": false
   },
   "outputs": [],
   "source": [
    "#Generate Zip Payment Rate Feature\n",
    "train_dat_cl['zip_payment_rate'] = np.zeros(train_dat_cl.shape[0])\n",
    "test_dat['zip_payment_rate'] = np.zeros(test_dat.shape[0])\n",
    "for zip_code in train_dat_cl.zip_code.unique():\n",
    "    zip_dat = train_dat_cl[train_dat_cl[\"zip_code\"] == zip_code]\n",
    "    if zip_dat.shape[0] >= 4:\n",
    "        comp_rate = sum(zip_dat[\"compliance\"] == 1)/zip_dat.shape[0]\n",
    "        if comp_rate <= 0.065:\n",
    "            train_dat_cl.loc[train_dat_cl['zip_code'] == zip_code, 'zip_payment_rate'] = 1.\n",
    "            test_dat.loc[test_dat['zip_code'] == zip_code, 'zip_payment_rate'] = 1.\n",
    "        elif comp_rate > 0.065 and comp_rate <= 0.09:\n",
    "            train_dat_cl.loc[train_dat_cl['zip_code'] == zip_code, 'zip_payment_rate'] = 2.\n",
    "            test_dat.loc[test_dat['zip_code'] == zip_code, 'zip_payment_rate'] = 2.\n",
    "        else:\n",
    "            train_dat_cl.loc[train_dat_cl['zip_code'] == zip_code, 'zip_payment_rate'] = 3.\n",
    "            test_dat.loc[test_dat['zip_code'] == zip_code, 'zip_payment_rate'] = 3."
   ]
  },
  {
   "cell_type": "code",
   "execution_count": 33,
   "metadata": {
    "collapsed": false
   },
   "outputs": [],
   "source": [
    "train_dat_cl[\"is_that_code\"] = np.zeros(train_dat_cl.shape[0])\n",
    "train_dat_cl.loc[train_dat_cl[\"violation_code\"] == \"9-1-36(a)\", \"is_that_code\"] = 1\n",
    "\n",
    "test_dat[\"is_that_code\"] = np.zeros(test_dat.shape[0])\n",
    "test_dat.loc[test_dat[\"violation_code\"] == \"9-1-36(a)\", \"is_that_code\"] = 1\n",
    "\n",
    "train_dat_cl[\"disposition_notdefault\"] = np.ones(train_dat_cl.shape[0])\n",
    "train_dat_cl.loc[train_dat_cl[\"disposition\"] == \"Responsible by Default\", \"disposition_notdefault\"] = 0\n",
    "\n",
    "test_dat[\"disposition_notdefault\"] = np.ones(test_dat.shape[0])\n",
    "test_dat.loc[test_dat[\"disposition\"] == \"Responsible by Default\", \"disposition_notdefault\"] = 0"
   ]
  },
  {
   "cell_type": "code",
   "execution_count": 34,
   "metadata": {
    "collapsed": false
   },
   "outputs": [],
   "source": [
    "train_dat_cl['ticket_issued_date'] = pd.to_datetime(train_dat_cl['ticket_issued_date'], format='%m/%d/%Y %H:%M')"
   ]
  },
  {
   "cell_type": "code",
   "execution_count": 35,
   "metadata": {
    "collapsed": false
   },
   "outputs": [],
   "source": [
    "####REDO WITH ORDINAL TIME SERIES CROSS VALIDATION -- SELECT RANDOM SUBSET FROM PRE_2010 and POST_2010#####\n",
    "# jan2010 = pd.to_datetime('1/1/2010 0:00', format='%-m/%-d/%Y %-H:%M', errors='ignore')\n",
    "# train_dat_pre2010 = train_dat_cl[train_dat_cl['ticket_issued_date'] < jan2010]\n",
    "# train_dat_post2010 = train_dat_cl[train_dat_cl['ticket_issued_date'] >= jan2010]\n",
    "\n",
    "train_dat_cl['violatorPaid'] = 0\n",
    "train_dat_cl['violatorSkipped'] = 0\n",
    "violatorPaid = {}\n",
    "violatorSkipped = {}\n",
    "for i, row in train_dat_cl.iterrows():\n",
    "    if row['violator_name'] in violatorPaid:\n",
    "        train_dat_cl.set_value(i,'violatorPaid', violatorPaid[row['violator_name']])\n",
    "    if row['violator_name'] in violatorSkipped:\n",
    "        train_dat_cl.set_value(i,'violatorSkipped', violatorSkipped[row['violator_name']])\n",
    "    if row['compliance'] == 1:\n",
    "        if row['violator_name'] in violatorPaid:\n",
    "            violatorPaid[row['violator_name']] += 1 \n",
    "        else:\n",
    "            violatorPaid[row['violator_name']] = 1\n",
    "    else:\n",
    "        if row['violator_name'] in violatorSkipped:\n",
    "            violatorSkipped[row['violator_name']] += 1\n",
    "        else:\n",
    "            violatorSkipped[row['violator_name']] = 1"
   ]
  },
  {
   "cell_type": "code",
   "execution_count": 36,
   "metadata": {
    "collapsed": true
   },
   "outputs": [],
   "source": [
    "test_dat['violatorPaid'] = 0\n",
    "test_dat['violatorSkipped'] = 0\n",
    "for i, row in test_dat.iterrows():\n",
    "    if row['violator_name'] in violatorPaid:\n",
    "        test_dat.at[i,'violatorPaid'] = violatorPaid[row['violator_name']]\n",
    "    if row['violator_name'] in violatorSkipped:\n",
    "        test_dat.at[i,'violatorSkipped'] = violatorSkipped[row['violator_name']]"
   ]
  },
  {
   "cell_type": "code",
   "execution_count": 37,
   "metadata": {
    "collapsed": false
   },
   "outputs": [
    {
     "name": "stdout",
     "output_type": "stream",
     "text": [
      "0.830802928269\n"
     ]
    }
   ],
   "source": [
    "#Create feature matrix\n",
    "feat_matrix = train_dat_cl[['zip_payment_rate', 'is_that_code', 'judgment_amount', 'late_fee', 'violatorPaid', 'violatorSkipped', 'disposition_notdefault']]\n",
    "feat_matrix_test = test_dat[['zip_payment_rate', 'is_that_code', 'judgment_amount', 'late_fee', 'violatorPaid', 'violatorSkipped', 'disposition_notdefault']]\n",
    "clf = ensemble.RandomForestClassifier()\n",
    "\n",
    "print(cv_performance(clf, feat_matrix, train_dat_cl[\"compliance\"], k=5))\n",
    "\n",
    "# clf.fit(feat_matrix, train_dat_cl[\"compliance\"])\n",
    "# y_pred = clf.predict_proba(feat_matrix_test)\n",
    "# y_probs = y_pred[:,1]\n",
    "# print(y_probs)"
   ]
  },
  {
   "cell_type": "code",
   "execution_count": null,
   "metadata": {
    "collapsed": true
   },
   "outputs": [],
   "source": []
  },
  {
   "cell_type": "code",
   "execution_count": 38,
   "metadata": {
    "collapsed": false
   },
   "outputs": [],
   "source": [
    "def cv_windows(clf, X, y, dates, windows=10):\n",
    "    rng = pd.date_range(start='2004-03-15', end='2008-12-30', freq='D')\n",
    "    time_idxs = np.array(range(len(rng)))\n",
    "    start_train = rng[np.random.choice(time_idxs, windows)]\n",
    "    end_train = start_train + pd.DateOffset(years=2)\n",
    "    start_test = end_train + pd.DateOffset(days=1)\n",
    "    end_test = start_test + pd.DateOffset(years=1)\n",
    "    curr_sum = 0\n",
    "    for i in range(windows):\n",
    "        train_idx = np.array((dates >= start_train[i]) & (dates <= end_train[i]))\n",
    "        train_idx = np.where(train_idx == True)[0]\n",
    "        train_idx = np.random.choice(train_idx, train_idx.shape[0])\n",
    "        test_idx = np.array((dates >= start_test[i]) & (dates <= end_test[i]))\n",
    "        test_idx = np.where(test_idx == True)[0]\n",
    "        test_idx = np.random.choice(test_idx, test_idx.shape[0])\n",
    "        clf.fit(X.ix[train_idx], y.ix[train_idx])\n",
    "        y_pred = clf.predict_proba(X.iloc[test_idx])[:,1]\n",
    "        curr_sum = curr_sum + metrics.roc_auc_score(y.iloc[test_idx], y_pred)\n",
    "    return(curr_sum/windows)"
   ]
  },
  {
   "cell_type": "code",
   "execution_count": 39,
   "metadata": {
    "collapsed": false,
    "scrolled": true
   },
   "outputs": [
    {
     "name": "stdout",
     "output_type": "stream",
     "text": [
      "0.812367761297\n"
     ]
    }
   ],
   "source": [
    "#CROSS VALIDATION\n",
    "feat_matrix = train_dat_cl[['zip_payment_rate', 'is_that_code', 'judgment_amount', 'late_fee', 'violatorPaid', 'violatorSkipped', 'disposition_notdefault']]\n",
    "feat_matrix_test = test_dat[['zip_payment_rate', 'is_that_code', 'judgment_amount', 'late_fee', 'violatorPaid', 'violatorSkipped', 'disposition_notdefault']]\n",
    "clf = ensemble.RandomForestClassifier()\n",
    "#Create dates vector\n",
    "dates = train_dat_cl['ticket_issued_date']\n",
    "\n",
    "print(cv_windows(clf, feat_matrix, train_dat_cl[\"compliance\"], dates, 100))"
   ]
  },
  {
   "cell_type": "code",
   "execution_count": 40,
   "metadata": {
    "collapsed": false
   },
   "outputs": [
    {
     "name": "stdout",
     "output_type": "stream",
     "text": [
      "2046\n",
      "58955\n"
     ]
    }
   ],
   "source": [
    "#SUBMISSION\n",
    "clf.fit(feat_matrix, train_dat_cl[\"compliance\"])\n",
    "y_pred = clf.predict_proba(feat_matrix_test)\n",
    "y_probs = y_pred[:,1]\n",
    "toWrite = pd.concat([test_dat[\"ticket_id\"], pd.Series(y_probs)], axis=1)\n",
    "toWrite.to_csv(path_or_buf=\"submission3.csv\", index=False)\n",
    "#SanityCheck\n",
    "print(sum(y_probs > 0.5))\n",
    "print(sum(y_probs <= 0.5))"
   ]
  },
  {
   "cell_type": "code",
   "execution_count": null,
   "metadata": {
    "collapsed": true
   },
   "outputs": [],
   "source": []
  }
 ],
 "metadata": {
  "anaconda-cloud": {},
  "kernelspec": {
   "display_name": "Python [conda root]",
   "language": "python",
   "name": "conda-root-py"
  },
  "language_info": {
   "codemirror_mode": {
    "name": "ipython",
    "version": 3
   },
   "file_extension": ".py",
   "mimetype": "text/x-python",
   "name": "python",
   "nbconvert_exporter": "python",
   "pygments_lexer": "ipython3",
   "version": "3.5.2"
  }
 },
 "nbformat": 4,
 "nbformat_minor": 1
}
