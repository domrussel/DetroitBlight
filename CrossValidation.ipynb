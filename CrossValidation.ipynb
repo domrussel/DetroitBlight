{
 "cells": [
  {
   "cell_type": "code",
   "execution_count": 127,
   "metadata": {
    "collapsed": true
   },
   "outputs": [],
   "source": [
    "import pandas as pd\n",
    "import numpy as np\n",
    "from sklearn import metrics\n",
    "from sklearn import ensemble\n",
    "import re\n",
    "from sklearn.model_selection import StratifiedKFold\n",
    "pd.options.mode.chained_assignment = None  # default='warn'\n",
    "\n",
    "def cv_performance(clf, X, y, k=5):\n",
    "    skf = StratifiedKFold(n_splits=k)\n",
    "    curr_sum = 0\n",
    "    for train, test in skf.split(X, y):\n",
    "        clf.fit(X.iloc[train], y.iloc[train])\n",
    "        y_pred = clf.predict_proba(X.iloc[test])[:,1]\n",
    "        curr_sum = curr_sum + metrics.roc_auc_score(y.iloc[test], y_pred)\n",
    "    return(curr_sum/k)\n"
   ]
  },
  {
   "cell_type": "code",
   "execution_count": 125,
   "metadata": {
    "collapsed": false
   },
   "outputs": [],
   "source": [
    "#Import Data\n",
    "train_dat = pd.read_csv(\"train.csv\", encoding = \"ISO-8859-1\", low_memory=False)\n",
    "test_dat = pd.read_csv(\"test.csv\")\n",
    "train_dat_cl = train_dat.dropna(axis=0, subset=[\"compliance\"])\n",
    "train_dat_cl = train_dat_cl.reset_index(drop=True)"
   ]
  },
  {
   "cell_type": "code",
   "execution_count": 126,
   "metadata": {
    "collapsed": false
   },
   "outputs": [],
   "source": [
    "#Generate Zip Payment Rate Feature\n",
    "train_dat_cl['zip_payment_rate'] = np.zeros(train_dat_cl.shape[0])\n",
    "test_dat['zip_payment_rate'] = np.zeros(test_dat.shape[0])\n",
    "for zip_code in train_dat_cl.zip_code.unique():\n",
    "    zip_dat = train_dat_cl[train_dat_cl[\"zip_code\"] == zip_code]\n",
    "    if zip_dat.shape[0] >= 4:\n",
    "        comp_rate = sum(zip_dat[\"compliance\"] == 1)/zip_dat.shape[0]\n",
    "        if comp_rate <= 0.065:\n",
    "            train_dat_cl.loc[train_dat_cl['zip_code'] == zip_code, 'zip_payment_rate'] = 1.\n",
    "            test_dat.loc[test_dat['zip_code'] == zip_code, 'zip_payment_rate'] = 1.\n",
    "        elif comp_rate > 0.065 and comp_rate <= 0.09:\n",
    "            train_dat_cl.loc[train_dat_cl['zip_code'] == zip_code, 'zip_payment_rate'] = 2.\n",
    "            test_dat.loc[test_dat['zip_code'] == zip_code, 'zip_payment_rate'] = 2.\n",
    "        else:\n",
    "            train_dat_cl.loc[train_dat_cl['zip_code'] == zip_code, 'zip_payment_rate'] = 3.\n",
    "            test_dat.loc[test_dat['zip_code'] == zip_code, 'zip_payment_rate'] = 3."
   ]
  },
  {
   "cell_type": "code",
   "execution_count": 128,
   "metadata": {
    "collapsed": false
   },
   "outputs": [],
   "source": [
    "#Generate is the code feature\n",
    "train_dat_cl[\"is_that_code\"] = np.zeros(train_dat_cl.shape[0])\n",
    "train_dat_cl.loc[train_dat_cl[\"violation_code\"] == \"9-1-36(a)\", \"is_that_code\"] = 1\n",
    "\n",
    "test_dat[\"is_that_code\"] = np.zeros(test_dat.shape[0])\n",
    "test_dat.loc[test_dat[\"violation_code\"] == \"9-1-36(a)\", \"is_that_code\"] = 1"
   ]
  },
  {
   "cell_type": "code",
   "execution_count": 129,
   "metadata": {
    "collapsed": false
   },
   "outputs": [],
   "source": [
    "train_dat_cl['ticket_issued_date'] = pd.to_datetime(train_dat_cl['ticket_issued_date'], format='%m/%d/%Y %H:%M')"
   ]
  },
  {
   "cell_type": "code",
   "execution_count": 46,
   "metadata": {
    "collapsed": false
   },
   "outputs": [
    {
     "name": "stderr",
     "output_type": "stream",
     "text": [
      "C:\\Users\\Dominic\\Anaconda3\\lib\\site-packages\\ipykernel\\__main__.py:1: SettingWithCopyWarning: \n",
      "A value is trying to be set on a copy of a slice from a DataFrame.\n",
      "Try using .loc[row_indexer,col_indexer] = value instead\n",
      "\n",
      "See the caveats in the documentation: http://pandas.pydata.org/pandas-docs/stable/indexing.html#indexing-view-versus-copy\n",
      "  if __name__ == '__main__':\n",
      "C:\\Users\\Dominic\\Anaconda3\\lib\\site-packages\\ipykernel\\__main__.py:2: SettingWithCopyWarning: \n",
      "A value is trying to be set on a copy of a slice from a DataFrame.\n",
      "Try using .loc[row_indexer,col_indexer] = value instead\n",
      "\n",
      "See the caveats in the documentation: http://pandas.pydata.org/pandas-docs/stable/indexing.html#indexing-view-versus-copy\n",
      "  from ipykernel import kernelapp as app\n",
      "C:\\Users\\Dominic\\Anaconda3\\lib\\site-packages\\ipykernel\\__main__.py:3: SettingWithCopyWarning: \n",
      "A value is trying to be set on a copy of a slice from a DataFrame.\n",
      "Try using .loc[row_indexer,col_indexer] = value instead\n",
      "\n",
      "See the caveats in the documentation: http://pandas.pydata.org/pandas-docs/stable/indexing.html#indexing-view-versus-copy\n",
      "  app.launch_new_instance()\n",
      "C:\\Users\\Dominic\\Anaconda3\\lib\\site-packages\\ipykernel\\__main__.py:4: SettingWithCopyWarning: \n",
      "A value is trying to be set on a copy of a slice from a DataFrame.\n",
      "Try using .loc[row_indexer,col_indexer] = value instead\n",
      "\n",
      "See the caveats in the documentation: http://pandas.pydata.org/pandas-docs/stable/indexing.html#indexing-view-versus-copy\n",
      "C:\\Users\\Dominic\\Anaconda3\\lib\\site-packages\\ipykernel\\__main__.py:5: SettingWithCopyWarning: \n",
      "A value is trying to be set on a copy of a slice from a DataFrame.\n",
      "Try using .loc[row_indexer,col_indexer] = value instead\n",
      "\n",
      "See the caveats in the documentation: http://pandas.pydata.org/pandas-docs/stable/indexing.html#indexing-view-versus-copy\n",
      "C:\\Users\\Dominic\\Anaconda3\\lib\\site-packages\\ipykernel\\__main__.py:6: SettingWithCopyWarning: \n",
      "A value is trying to be set on a copy of a slice from a DataFrame.\n",
      "Try using .loc[row_indexer,col_indexer] = value instead\n",
      "\n",
      "See the caveats in the documentation: http://pandas.pydata.org/pandas-docs/stable/indexing.html#indexing-view-versus-copy\n",
      "C:\\Users\\Dominic\\Anaconda3\\lib\\site-packages\\ipykernel\\__main__.py:27: SettingWithCopyWarning: \n",
      "A value is trying to be set on a copy of a slice from a DataFrame.\n",
      "Try using .loc[row_indexer,col_indexer] = value instead\n",
      "\n",
      "See the caveats in the documentation: http://pandas.pydata.org/pandas-docs/stable/indexing.html#indexing-view-versus-copy\n",
      "C:\\Users\\Dominic\\Anaconda3\\lib\\site-packages\\ipykernel\\__main__.py:28: SettingWithCopyWarning: \n",
      "A value is trying to be set on a copy of a slice from a DataFrame.\n",
      "Try using .loc[row_indexer,col_indexer] = value instead\n",
      "\n",
      "See the caveats in the documentation: http://pandas.pydata.org/pandas-docs/stable/indexing.html#indexing-view-versus-copy\n"
     ]
    }
   ],
   "source": [
    "####REDO WITH ORDINAL TIME SERIES CROSS VALIDATION -- SELECT RANDOM SUBSET FROM PRE_2010 and POST_2010#####\n",
    "# jan2010 = pd.to_datetime('1/1/2010 0:00', format='%-m/%-d/%Y %-H:%M', errors='ignore')\n",
    "# train_dat_pre2010 = train_dat_cl[train_dat_cl['ticket_issued_date'] < jan2010]\n",
    "# train_dat_post2010 = train_dat_cl[train_dat_cl['ticket_issued_date'] >= jan2010]\n",
    "\n",
    "train_dat_cl['housePayRate'] = 0\n",
    "train_dat_cl['violatorPayRate'] = 0\n",
    "train_dat_cl['housePaid'] = 0\n",
    "train_dat_cl['houseTotal'] = 0\n",
    "train_dat_cl['violatorPaid'] = 0\n",
    "train_dat_cl['violatorTotal'] = 0\n",
    "violatorPayRate = {}\n",
    "housePayRate = {}\n",
    "for i, row in train_dat_cl.iterrows():\n",
    "    if row['violator_name'] in violatorPayRate:\n",
    "        train_dat_cl.set_value(i,'violatorPayRate',violatorPayRate[row['violator_name']][0] / violatorPayRate[row['violator_name']][1])\n",
    "        violatorPayRate[row['violator_name']][0] += row['compliance']\n",
    "        violatorPayRate[row['violator_name']][1] += 1\n",
    "    else:\n",
    "        violatorPayRate[row['violator_name']] = [row['compliance'],1]\n",
    "    if str(row['violation_street_number']) + str(row['violation_street_name']) in housePayRate:\n",
    "        train_dat_cl.set_value(i,'housePayRate',housePayRate[str(row['violation_street_number']) + str(row['violation_street_name'])][0] / housePayRate[str(row['violation_street_number']) + str(row['violation_street_name'])][1])\n",
    "        housePayRate[str(row['violation_street_number']) + str(row['violation_street_name'])][0] += row['compliance']\n",
    "        housePayRate[str(row['violation_street_number']) + str(row['violation_street_name'])][1] += 1\n",
    "    else:\n",
    "        housePayRate[str(row['violation_street_number']) + str(row['violation_street_name'])] = [row['compliance'],1]\n",
    "for i, row in train_dat_cl.iterrows():\n",
    "    train_dat_cl.at[i,'violatorPaid'] = violatorPayRate[row['violator_name']][0]\n",
    "    train_dat_cl.at[i,'housePaid'] = housePayRate[str(row['violation_street_number']) + str(row['violation_street_name'])][0] \n",
    "    train_dat_cl.at[i,'violatorTotal'] = violatorPayRate[row['violator_name']][1]\n",
    "    train_dat_cl.at[i,'houseTotal'] = housePayRate[str(row['violation_street_number']) + str(row['violation_street_name'])][1]\n",
    "train_dat_cl['housePayRate'] = train_dat_cl['housePaid'] / train_dat_cl['houseTotal']\n",
    "train_dat_cl['violatorPayRate'] = train_dat_cl['violatorPaid'] / train_dat_cl['violatorTotal']"
   ]
  },
  {
   "cell_type": "code",
   "execution_count": 47,
   "metadata": {
    "collapsed": true
   },
   "outputs": [],
   "source": [
    "test_dat['violatorPaid'] = 0\n",
    "test_dat['violatorTotal'] = 1\n",
    "test_dat['violatorPayRate'] = 0\n",
    "for i, row in test_dat.iterrows():\n",
    "    if row['violator_name'] in violatorPayRate:\n",
    "        test_dat.at[i,'violatorPaid'] = violatorPayRate[row['violator_name']][0]\n",
    "        test_dat.at[i,'violatorTotal'] = violatorPayRate[row['violator_name']][1]\n",
    "test_dat['violatorPayRate'] = test_dat['violatorPaid'] / test_dat['violatorTotal']"
   ]
  },
  {
   "cell_type": "code",
   "execution_count": 130,
   "metadata": {
    "collapsed": false
   },
   "outputs": [
    {
     "name": "stdout",
     "output_type": "stream",
     "text": [
      "0.784580824405\n"
     ]
    }
   ],
   "source": [
    "#Create feature matrix\n",
    "feat_matrix = train_dat_cl[['zip_payment_rate', 'is_that_code', 'judgment_amount', 'late_fee']]\n",
    "feat_matrix_test = test_dat[['zip_payment_rate', 'is_that_code', 'judgment_amount', 'late_fee']]\n",
    "clf = ensemble.RandomForestClassifier()\n",
    "\n",
    "print(cv_performance(clf, feat_matrix, train_dat_cl[\"compliance\"], k=5))\n",
    "\n",
    "# clf.fit(feat_matrix, train_dat_cl[\"compliance\"])\n",
    "# y_pred = clf.predict_proba(feat_matrix_test)\n",
    "# y_probs = y_pred[:,1]\n",
    "# print(y_probs)"
   ]
  },
  {
   "cell_type": "code",
   "execution_count": null,
   "metadata": {
    "collapsed": true
   },
   "outputs": [],
   "source": []
  },
  {
   "cell_type": "code",
   "execution_count": 193,
   "metadata": {
    "collapsed": false
   },
   "outputs": [],
   "source": [
    "def cv_windows(clf, X, y, dates, windows=10):\n",
    "    rng = pd.date_range(start='2004-03-15', end='2008-12-30', freq='D')\n",
    "    time_idxs = np.array(range(len(rng)))\n",
    "    start_train = rng[np.random.choice(time_idxs, windows)]\n",
    "    end_train = start_train + pd.DateOffset(years=2)\n",
    "    start_test = end_train + pd.DateOffset(days=1)\n",
    "    end_test = start_test + pd.DateOffset(years=1)\n",
    "    curr_sum = 0\n",
    "    for i in range(windows):\n",
    "        train_idx = np.array((dates >= start_train[i]) & (dates <= end_train[i]))\n",
    "        train_idx = np.where(train_idx == True)[0]\n",
    "        train_idx = np.random.choice(train_idx, train_idx.shape[0])\n",
    "        test_idx = np.array((dates >= start_test[i]) & (dates <= end_test[i]))\n",
    "        test_idx = np.where(test_idx == True)[0]\n",
    "        test_idx = np.random.choice(test_idx, test_idx.shape[0])\n",
    "        clf.fit(X.ix[train_idx], y.ix[train_idx])\n",
    "        y_pred = clf.predict_proba(X.iloc[test_idx])[:,1]\n",
    "        curr_sum = curr_sum + metrics.roc_auc_score(y.iloc[test_idx], y_pred)\n",
    "    return(curr_sum/windows)"
   ]
  },
  {
   "cell_type": "code",
   "execution_count": 204,
   "metadata": {
    "collapsed": false,
    "scrolled": true
   },
   "outputs": [
    {
     "name": "stdout",
     "output_type": "stream",
     "text": [
      "0.784064380606\n"
     ]
    }
   ],
   "source": [
    "#CROSS VALIDATION\n",
    "feat_matrix = train_dat_cl[['zip_payment_rate', 'is_that_code', 'judgment_amount', 'late_fee']]\n",
    "feat_matrix_test = test_dat[['zip_payment_rate', 'is_that_code', 'judgment_amount', 'late_fee']]\n",
    "clf = ensemble.RandomForestClassifier()\n",
    "#Create dates vector\n",
    "dates = train_dat_cl['ticket_issued_date']\n",
    "\n",
    "print(cv_windows(clf, feat_matrix, train_dat_cl[\"compliance\"], dates, 100))"
   ]
  },
  {
   "cell_type": "code",
   "execution_count": 196,
   "metadata": {
    "collapsed": false
   },
   "outputs": [
    {
     "name": "stdout",
     "output_type": "stream",
     "text": [
      "[0 2 3 6]\n"
     ]
    }
   ],
   "source": [
    "#SUBMISSION\n",
    "clf.fit(feat_matrix, train_dat_cl[\"compliance\"])\n",
    "y_pred = clf.predict_proba(feat_matrix_test)\n",
    "y_probs = y_pred[:,1]\n",
    "toWrite = pd.concat([test_dat[\"ticket_id\"], pd.Series(y_probs)], axis=1)\n",
    "toWrite.to_csv(path_or_buf=\"submission3.csv\", index=False)\n",
    "#SanityCheck\n",
    "print(sum(y_probs > 0.5))\n",
    "print(sum(y_probs <= 0.5))"
   ]
  }
 ],
 "metadata": {
  "anaconda-cloud": {},
  "kernelspec": {
   "display_name": "Python [conda root]",
   "language": "python",
   "name": "conda-root-py"
  },
  "language_info": {
   "codemirror_mode": {
    "name": "ipython",
    "version": 3
   },
   "file_extension": ".py",
   "mimetype": "text/x-python",
   "name": "python",
   "nbconvert_exporter": "python",
   "pygments_lexer": "ipython3",
   "version": "3.5.2"
  }
 },
 "nbformat": 4,
 "nbformat_minor": 1
}
